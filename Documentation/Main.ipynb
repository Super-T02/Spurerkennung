{
 "cells": [
  {
   "cell_type": "markdown",
   "metadata": {},
   "source": [
    "# Erklärung Main\n",
    "\n",
    "Dieser Abschnitt erklärt die meisten Methoden des Objektes Main. Weggelassen wurden Methoden, welche nur für die Entwicklung benötigt wurden und im Produktivcode nicht aufgerufen werden (Debugging Methoden).\n",
    "### Disclaimer\n",
    "Der Code ist nicht lauffähig, dafür existieren die Python Skripte. Das Notebook stellt lediglich eine Dokumentation dar."
   ]
  },
  {
   "cell_type": "markdown",
   "metadata": {},
   "source": [
    "### Verbesserungen, welche an Main vorgenommen wurden\n",
    "- Nix"
   ]
  },
  {
   "cell_type": "markdown",
   "metadata": {},
   "source": [
    "### Import aller spezifischen Bibliotheken und Module\n",
    "Zu beachten sind calibration, sliding_window und hough_transformation"
   ]
  },
  {
   "cell_type": "code",
   "execution_count": null,
   "metadata": {},
   "outputs": [],
   "source": [
    "import cv2 as cv\n",
    "import os\n",
    "import time\n",
    "\n",
    "import calib as cal\n",
    "import sliding_window as slw\n",
    "import hough_transformation as hou"
   ]
  },
  {
   "cell_type": "markdown",
   "metadata": {},
   "source": [
    "### Klassendeklaration und init Methode\n",
    "Hier werden die Bildgrößen festgelegt und jeweils ein Objekt der oben importierten Module erzeugt. Der Pfad ist die URL für das Video, welches verwendet werden soll."
   ]
  },
  {
   "cell_type": "code",
   "execution_count": 1,
   "metadata": {},
   "outputs": [],
   "source": [
    "class Main():\n",
    "    # Window size\n",
    "    WIN_X = 1280\n",
    "    WIN_Y = 720\n",
    "\n",
    "    def __init__(self, path, debug=False):\n",
    "        print('Willkommen beim Projekt \"Erkennung von Spurmarkierungen\"')\n",
    "                \n",
    "        # Define the objects\n",
    "        self.calib = cal.Calibration(debug=debug)\n",
    "        self.sliding_win = slw.SlidingWindow(debug=debug)\n",
    "        self.hough = hou.HoughTransformation(debug = debug)\n",
    "        \n",
    "        # Define the variables\n",
    "        self.path = path"
   ]
  },
  {
   "cell_type": "markdown",
   "metadata": {},
   "source": [
    "### start video\n",
    "Dies ist die Hauptfunktion des Objektes Main. Um die Spurerkennung zu starten, muss diese Methode aufgerufen werden. Grundsätzlich gibt es zwei Modi: Hough und Sliding Windows. Mittels des mode Parameter wird zwischen ihnen umgeschaltet. Je nach Modus werden die Konfigurationen des jeweiligen Ansatzes aus der Config Datei geladen. Eine Datei existiert jeweils für ein Video. Darum stehen in einer Konfigurationsdatei alle Variablen für beide Ansätze. Danach wird das Video geladen und die Frames werden einzeln iteriert. \n",
    "Der erste Schritt für jedes Bild ist die Vorverarbeitung. Dabei wird der Frame in der Größe angepasst und dann Kalibriert (also entzerrt, nicht transformiert). \n",
    "Anschließend wird der Frame dann mit dem gewählten Ansatz bearbeitet. Zur detailierten Beschreibung siehe Klassen Hough und SlidingWindows.\n",
    "Bei erfolgreicher Erkennung der Spur wird das Bild mit Fahrbahnmarkierung angezeigt, andernfalls ohne Markierung (aber vorverarbeitet). Es wird noch die berechnete FPS Zahl auf den Frame eingefügt und der Frame angezeigt. \n",
    "Wichtig zu erwähnen ist die Taste 'q' (Quit), welche die Wiedergabe des Videos abbricht."
   ]
  },
  {
   "cell_type": "code",
   "execution_count": null,
   "metadata": {},
   "outputs": [],
   "source": [
    "def startVideo(self, mode=0, config_path=\"./config/video.json\"):\n",
    "    if not os.path.exists(self.path):\n",
    "        return print('Video not found')\n",
    "    \n",
    "    # Load config\n",
    "    error = None\n",
    "    if mode==0:\n",
    "        error = self.hough.load_config(config_path)\n",
    "    elif mode == 1:\n",
    "        error = self.sliding_win.load_config(config_path)\n",
    "    else:\n",
    "        error = \"Mode not found\"\n",
    "    \n",
    "    if error:\n",
    "        print(error)\n",
    "        return \n",
    "\n",
    "    # Load video\n",
    "    video = cv.VideoCapture(self.path)\n",
    "    prev_frame_time = 0\n",
    "    new_frame_time = 0\n",
    "\n",
    "    # While the video is running\n",
    "    while(video.isOpened()):\n",
    "        ret, frame = video.read()\n",
    "\n",
    "        # Break if video is finish or no input\n",
    "        if not ret:\n",
    "            break\n",
    "\n",
    "        # Do here the image processing\n",
    "        frame = cv.resize(frame, (self.WIN_X, self.WIN_Y))\n",
    "        \n",
    "        # Equalize the image\n",
    "        frame = self.calib.equalize(frame)\n",
    "        \n",
    "        # Choose the mode\n",
    "        if mode == 0:\n",
    "            frame = self.hough.execute(frame)\n",
    "        elif mode == 1:\n",
    "            frame = self.sliding_win.execute(frame)\n",
    "        else:\n",
    "            return print('Mode not found')\n",
    "        \n",
    "        if (type(frame) == bool and not frame) or not frame.any():\n",
    "            return print('Error: Module not loaded')\n",
    "\n",
    "        # Do operations on the frame\n",
    "        if frame is not None:\n",
    "            font = cv.FONT_HERSHEY_SIMPLEX\n",
    "            new_frame_time = time.time()\n",
    "\n",
    "            # Calculate Frame Rate\n",
    "            fps, prev_frame_time = self._calcFPS(prev_frame_time, new_frame_time)\n",
    "\n",
    "            # Put fps on the screen\n",
    "            cv.putText(frame, fps, (7, 21), font, 1, (100, 100, 100), 2, cv.LINE_AA)\n",
    "\n",
    "            cv.imshow('Video', frame)\n",
    "\n",
    "        # press 'Q' for exit\n",
    "        if cv.waitKey(1) & 0xFF == ord('q'):\n",
    "            break\n",
    "\n",
    "\n",
    "    # Stop video and close window\n",
    "    video.release()\n",
    "    cv.destroyAllWindows()   "
   ]
  },
  {
   "cell_type": "markdown",
   "metadata": {},
   "source": [
    "### calc fps\n",
    "In dieser Funktion werden die Frames per Second des Videos berechnet. Dafür wird von der Anzeigezeit des jetzigen Frames die Zeit des vorigen Frames subtrahiert."
   ]
  },
  {
   "cell_type": "code",
   "execution_count": null,
   "metadata": {},
   "outputs": [],
   "source": [
    "def _calcFPS(self, prev_frame_time, new_frame_time):\n",
    "    # Calculate Frame Rate\n",
    "    fps = 1/(new_frame_time-prev_frame_time)\n",
    "    prev_frame_time = new_frame_time\n",
    "    fps = int(fps)\n",
    "    fps = str(fps)\n",
    "\n",
    "    return fps, prev_frame_time"
   ]
  },
  {
   "cell_type": "markdown",
   "metadata": {},
   "source": [
    "### Aufruf des main Objektes\n",
    "Hier ist exemplarisch dargestellt, wie die Spurerkennung für ein Video gestartet werden kann. Es muss zuerst das Objekt erstellt werden, dabei muss auch der Dateipfad des Videos angegeben werden. Anschließend wird mit startVideo() die eigentliche Spurerkennung gestartet. Der Modus ist, ob als Ansatz Hough oder Sliding Windows gewählt werden soll. "
   ]
  },
  {
   "cell_type": "code",
   "execution_count": null,
   "metadata": {},
   "outputs": [],
   "source": [
    "if __name__ == '__main__':\n",
    "    # Path to video\n",
    "    video = \"img/Udacity/project_video.mp4\"\n",
    "    videoHarder = \"img/Udacity/challenge_video.mp4\"\n",
    "    videoHardest = \"img/Udacity/harder_challenge_video.mp4\"\n",
    "    \n",
    "    # Start the program\n",
    "    main = Main(video, debug=False)\n",
    "    main2 = Main(videoHarder, debug=False)\n",
    "\n",
    "    # Mode:\n",
    "    # - 0: Hough\n",
    "    # - 1: Sliding window\n",
    "    main.startVideo(mode=0, config_path=\"./config/video.json\")\n",
    "    main.startVideo(mode=1, config_path=\"./config/video.json\")\n",
    "    main2.startVideo(mode=0, config_path=\"./config/video_challenge.json\")\n",
    "    main2.startVideo(mode=1, config_path=\"./config/video_challenge.json\")"
   ]
  }
 ],
 "metadata": {
  "kernelspec": {
   "display_name": "Python 3.9.13 ('Bildverarbeitung')",
   "language": "python",
   "name": "python3"
  },
  "language_info": {
   "codemirror_mode": {
    "name": "ipython",
    "version": 3
   },
   "file_extension": ".py",
   "mimetype": "text/x-python",
   "name": "python",
   "nbconvert_exporter": "python",
   "pygments_lexer": "ipython3",
   "version": "3.9.13"
  },
  "orig_nbformat": 4,
  "vscode": {
   "interpreter": {
    "hash": "73e9040337f818fd60409dcdacdc763e91952f89d50108fc628d40f1d2b9a0fd"
   }
  }
 },
 "nbformat": 4,
 "nbformat_minor": 2
}
