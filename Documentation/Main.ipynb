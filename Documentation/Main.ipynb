{
 "cells": [
  {
   "cell_type": "markdown",
   "metadata": {},
   "source": [
    "# Erklärung Main\n",
    "\n",
    "Dieser Abschnitt erklärt die meisten Methoden des Objektes Main. Weggelassen wurden Methoden, welche nur für die Entwicklung benötigt wurden und im Produktivcode nicht aufgerufen werden (Debugging Methoden).\n",
    "### Disclaimer\n",
    "Der Code ist nicht lauffähig, dafür existieren die Python Skripte. Das Notebook stellt lediglich eine Dokumentation dar."
   ]
  },
  {
   "attachments": {},
   "cell_type": "markdown",
   "metadata": {},
   "source": [
    "### Verbesserungen, welche an Main vorgenommen wurden\n",
    "- Nichts besonderes"
   ]
  },
  {
   "cell_type": "markdown",
   "metadata": {},
   "source": [
    "### Import aller spezifischen Bibliotheken und Module\n",
    "Zu beachten sind calibration, sliding_window und hough_transformation"
   ]
  },
  {
   "cell_type": "code",
   "execution_count": null,
   "metadata": {},
   "outputs": [],
   "source": [
    "import cv2 as cv\n",
    "import os\n",
    "import time\n",
    "\n",
    "import calib as cal\n",
    "import sliding_window as slw\n",
    "import hough_transformation as hou"
   ]
  },
  {
   "cell_type": "markdown",
   "metadata": {},
   "source": [
    "### Klassendeklaration und init Methode\n",
    "Hier werden die Bildgrößen festgelegt und jeweils ein Objekt der oben importierten Module erzeugt. Der Pfad ist die URL für das Video, welches verwendet werden soll."
   ]
  },
  {
   "cell_type": "code",
   "execution_count": 1,
   "metadata": {},
   "outputs": [],
   "source": [
    "class Main():\n",
    "    # Window size\n",
    "    WIN_X = 1280\n",
    "    WIN_Y = 720\n",
    "\n",
    "    def __init__(self, path, debug=False):\n",
    "        print('Willkommen beim Projekt \"Erkennung von Spurmarkierungen\"')\n",
    "                \n",
    "        # Define the objects\n",
    "        self.calib = cal.Calibration(debug=debug)\n",
    "        self.sliding_win = slw.SlidingWindow(debug=debug)\n",
    "        self.hough = hou.HoughTransformation(debug = debug)\n",
    "        \n",
    "        # Define the variables\n",
    "        self.path = path"
   ]
  },
  {
   "attachments": {},
   "cell_type": "markdown",
   "metadata": {},
   "source": [
    "### start video\n",
    "Dies ist die Hauptfunktion des Objektes Main. \n",
    "Um die Spurerkennung zu starten, muss diese Methode aufgerufen werden. \n",
    "Grundsätzlich gibt es drei Modi: Hough, Sliding Windows und KI. \n",
    "Mittels des mode Parameter wird zwischen ihnen umgeschaltet. \n",
    "Je nach Modus werden die Konfigurationen des jeweiligen Ansatzes aus der Config Datei geladen. \n",
    "Eine Config-Datei existiert jeweils für ein Video. Darum stehen in einer Konfigurationsdatei alle Variablen für beide Ansätze. \n",
    "Danach wird das Video geladen und die Frames werden einzeln iteriert. \n",
    "Der erste Schritt für jedes Bild ist die Vorverarbeitung. \n",
    "Dabei wird der Frame in der Größe angepasst und dann Kalibriert (also entzerrt, nicht transformiert). \n",
    "Anschließend wird der Frame dann mit dem gewählten Ansatz bearbeitet. Zur detaillierten Beschreibung siehe Klassen Hough, SlidingWindows und KI.\n",
    "Bei erfolgreicher Erkennung der Spur wird das Bild mit Fahrbahnmarkierung angezeigt, andernfalls ohne Markierung (aber vorverarbeitet). Es wird noch die berechnete FPS Zahl auf den Frame eingefügt und der Frame angezeigt. \n",
    "\n",
    "Der Export des Videos ist hier ebenfalls zu sehen. Es muss nur der Parameter export_video auf True gesetzt werden und das Video wird automatisch (ohne anzeigen der Frames für realistische Messung) unter jeweiligem Namen abgespeichert.\n",
    "\n",
    "Wichtig zu erwähnen ist die Taste 'q' (Quit), welche die Wiedergabe des Videos abbricht."
   ]
  },
  {
   "cell_type": "code",
   "execution_count": null,
   "metadata": {},
   "outputs": [],
   "source": [
    "def startVideo(self, mode=0, config_path=\"./config/video.json\", export_video=False):\n",
    "        if not os.path.exists(self.path):\n",
    "            return print('Video not found')\n",
    "        \n",
    "        # Load config\n",
    "        error = None\n",
    "        if mode==0:\n",
    "            error = self.hough.load_config(config_path)\n",
    "        elif mode == 1:\n",
    "            error = self.sliding_win.load_config(config_path)\n",
    "        elif mode == 2:\n",
    "            pass\n",
    "        else:\n",
    "            error = \"Mode not found\"\n",
    "        \n",
    "        if error:\n",
    "            print(error)\n",
    "            return \n",
    "\n",
    "        # Load video\n",
    "        video = cv.VideoCapture(self.path)\n",
    "        prev_frame_time = 0\n",
    "        new_frame_time = 0\n",
    "\n",
    "        # Saving Video\n",
    "        if export_video:\n",
    "            saving_path = './Documentation/Videos/'\n",
    "            mode_str = 'hough'\n",
    "            vid_str = 'default_vid'\n",
    "            if mode == 1:\n",
    "                mode_str = 'sliding_windows'\n",
    "            if mode == 2:\n",
    "                mode_str = 'KI'\n",
    "            if config_path == './config/video_challenge.json':\n",
    "                vid_str = 'challenge_vid'\n",
    "            filename = saving_path + vid_str + '_' + mode_str + '.avi'\n",
    "            print(filename)\n",
    "            out = cv.VideoWriter(filename, cv.VideoWriter_fourcc(*'MJPG'),25, (self.WIN_X, self.WIN_Y))\n",
    "\n",
    "        # While the video is running\n",
    "        while(video.isOpened()):\n",
    "            ret, frame = video.read()\n",
    "\n",
    "            # Break if video is finish or no input\n",
    "            if not ret:\n",
    "                break\n",
    "\n",
    "            # Do here the image processing\n",
    "            frame = cv.resize(frame, (self.WIN_X, self.WIN_Y))\n",
    "            \n",
    "            # Equalize the image\n",
    "            frame = self.calib.equalize(frame)\n",
    "            \n",
    "            # Choose the mode\n",
    "            if mode == 0:\n",
    "                frame = self.hough.execute(frame)\n",
    "            elif mode == 1:\n",
    "                frame = self.sliding_win.execute(frame)\n",
    "            elif mode == 2:\n",
    "                frame = self.lane_detector.detectLanes(frame)\n",
    "            else:\n",
    "                return print('Mode not found')\n",
    "            \n",
    "            if (type(frame) == bool and not frame) or not frame.any():\n",
    "                return print('Error: Module not loaded')\n",
    "\n",
    "            # Do operations on the frame\n",
    "            if frame is not None:\n",
    "                font = cv.FONT_HERSHEY_SIMPLEX\n",
    "                new_frame_time = time.time()\n",
    "\n",
    "                # Calculate Frame Rate\n",
    "                fps = self._calcFPS(prev_frame_time, new_frame_time)\n",
    "                \n",
    "\n",
    "                # Put fps on the screen\n",
    "                cv.putText(frame, fps, (7, 21), font, 1, (100, 100, 100), 2, cv.LINE_AA)\n",
    "                \n",
    "                if export_video:\n",
    "                    frame = cv.resize(frame, (self.WIN_X, self.WIN_Y))\n",
    "                    out.write(frame)\n",
    "                else:\n",
    "                    cv.imshow('Video', frame)\n",
    "                    \n",
    "                prev_frame_time = time.time()\n",
    "\n",
    "            # press 'Q' for exit\n",
    "            if cv.waitKey(1) & 0xFF == ord('q'):\n",
    "                break\n",
    "\n",
    "\n",
    "        # Stop video and close window\n",
    "        video.release()\n",
    "        if export_video:\n",
    "            out.release()\n",
    "        cv.destroyAllWindows()"
   ]
  },
  {
   "cell_type": "markdown",
   "metadata": {},
   "source": [
    "### calc fps\n",
    "In dieser Funktion werden die Frames per Second des Videos berechnet. Dafür wird von der Anzeigezeit des jetzigen Frames die Zeit des vorigen Frames subtrahiert."
   ]
  },
  {
   "cell_type": "code",
   "execution_count": null,
   "metadata": {},
   "outputs": [],
   "source": [
    "def _calcFPS(self, prev_frame_time, new_frame_time):\n",
    "    # Calculate Frame Rate\n",
    "    fps = 1/(new_frame_time-prev_frame_time)\n",
    "    fps = int(fps)\n",
    "    fps = str(fps)\n",
    "\n",
    "    return fps"
   ]
  },
  {
   "attachments": {},
   "cell_type": "markdown",
   "metadata": {},
   "source": [
    "### Aufruf des main Objektes\n",
    "Hier ist exemplarisch dargestellt, wie die Spurerkennung für ein Video gestartet werden kann. Es muss zuerst das Objekt erstellt werden, dabei muss auch der Dateipfad des Videos angegeben werden. Anschließend wird mit startVideo() die eigentliche Spurerkennung gestartet. Der Modus ist, ob als Ansatz Hough, Sliding Windows oder KI gewählt werden soll. "
   ]
  },
  {
   "cell_type": "code",
   "execution_count": null,
   "metadata": {},
   "outputs": [],
   "source": [
    "if __name__ == '__main__':\n",
    "    # Path to video\n",
    "    video = \"img/Udacity/project_video.mp4\"\n",
    "    videoHarder = \"img/Udacity/challenge_video.mp4\"\n",
    "    videoHardest = \"img/Udacity/harder_challenge_video.mp4\"\n",
    "    \n",
    "    # Start the program\n",
    "    main = Main(video, debug=False)\n",
    "    main2 = Main(videoHarder, debug=False)\n",
    "    main3 = Main(videoHardest, debug=False)\n",
    "\n",
    "    # Mode:\n",
    "    # - 0: Hough\n",
    "    # - 1: Sliding window\n",
    "    # - 2: KI-Model\n",
    "    main.startVideo(mode=0, config_path=\"./config/video.json\")\n",
    "    main.startVideo(mode=1, config_path=\"./config/video.json\")\n",
    "    main.startVideo(mode=2, config_path=\"./config/video.json\")\n",
    "    main2.startVideo(mode=0, config_path=\"./config/video_challenge.json\")\n",
    "    main2.startVideo(mode=1, config_path=\"./config/video_challenge.json\")\n",
    "    main2.startVideo(mode=2, config_path=\"./config/video_challenge.json\")"
   ]
  }
 ],
 "metadata": {
  "kernelspec": {
   "display_name": "Bildverarbeitung",
   "language": "python",
   "name": "python3"
  },
  "language_info": {
   "codemirror_mode": {
    "name": "ipython",
    "version": 3
   },
   "file_extension": ".py",
   "mimetype": "text/x-python",
   "name": "python",
   "nbconvert_exporter": "python",
   "pygments_lexer": "ipython3",
   "version": "3.9.13 (main, Aug 25 2022, 23:51:50) [MSC v.1916 64 bit (AMD64)]"
  },
  "orig_nbformat": 4,
  "vscode": {
   "interpreter": {
    "hash": "73e9040337f818fd60409dcdacdc763e91952f89d50108fc628d40f1d2b9a0fd"
   }
  }
 },
 "nbformat": 4,
 "nbformat_minor": 2
}
