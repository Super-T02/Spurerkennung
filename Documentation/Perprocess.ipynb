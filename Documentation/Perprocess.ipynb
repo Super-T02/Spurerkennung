{
 "cells": [
  {
   "attachments": {},
   "cell_type": "markdown",
   "metadata": {},
   "source": [
    "# Erklärung Preprocesse\n",
    "\n",
    "Dieser Abschnitt erklärt die meisten Methoden des Objektes Preprocesse. Weggelassen wurden Methoden, welche nur für die Entwicklung benötigt wurden und im Produktivcode nicht aufgerufen werden (Debugging Methoden).\n",
    "### Disclaimer\n",
    "Der Code ist nicht lauffähig, dafür existieren die Python Skripte. Das Notebook stellt lediglich eine Dokumentation dar."
   ]
  },
  {
   "attachments": {},
   "cell_type": "markdown",
   "metadata": {},
   "source": [
    "### Verbesserungen, welche an Main vorgenommen wurden\n",
    "- Nichts besonderes"
   ]
  },
  {
   "attachments": {},
   "cell_type": "markdown",
   "metadata": {},
   "source": [
    "### Import aller spezifischen Bibliotheken und Module, Klassendefinition und init Methode\n",
    "Hier wird der Gauss Kernel als festes Attribut der Klasse gesetzt."
   ]
  },
  {
   "cell_type": "code",
   "execution_count": null,
   "metadata": {},
   "outputs": [],
   "source": [
    "import cv2 as cv\n",
    "import numpy as np\n",
    "\n",
    "class Preprocess():\n",
    "\n",
    "    GAUSS_KERNEL = (5, 5)\n",
    "    \n",
    "    def __init__(self) -> None:\n",
    "        pass"
   ]
  },
  {
   "attachments": {},
   "cell_type": "markdown",
   "metadata": {},
   "source": [
    "### Gauss, Canny Edge und Threshold\n",
    "Diese Funktionalität wurde in eigene prepocess Methoden ausgelagert. Die jeweiligen Variablen (canny_lower, canny_upper, threshold) sind in der Config Datei ausgelagter, um sie möglichst leicht anpassen zu können. Nur der Gauss Kernel wurde hier fest definiert."
   ]
  },
  {
   "cell_type": "code",
   "execution_count": null,
   "metadata": {},
   "outputs": [],
   "source": [
    "def gauss(self, img):\n",
    "    return cv.GaussianBlur(img, self.GAUSS_KERNEL, 0)\n",
    "\n",
    "def canny(self, img, canny_lower, canny_upper):\n",
    "    return cv.Canny(img, canny_lower, canny_upper)\n",
    "\n",
    "def threshold(self, img, thresh):\n",
    "    return cv.threshold(img, thresh[0], thresh[1], cv.THRESH_BINARY)[1]"
   ]
  },
  {
   "attachments": {},
   "cell_type": "markdown",
   "metadata": {},
   "source": [
    "### segmenation\n",
    "In dieser Funktion wird aus dem zu verarbeitenden Bild die Region of Interest ausgeschnitten. Das bedeutet, nur dieser Bildbereich bleibt enthalten. Dies hat den Sinn, bspw. die obere Hälfte des Bildes abzuschneiden. Hier befinden sich keine Fahrspuren."
   ]
  },
  {
   "cell_type": "code",
   "execution_count": null,
   "metadata": {},
   "outputs": [],
   "source": [
    "def segmentation(self, img, roi, negative = False):\n",
    "    # Define a blank matrix that matches the image height/width.\n",
    "    mask = np.zeros_like(img)\n",
    "\n",
    "    match_mask_color = 255\n",
    "    \n",
    "    # Fill inside the polygon\n",
    "    vertices = self._generateCoordinatesRectangle(img, roi)\n",
    "    cv.fillPoly(mask, np.array([vertices], np.int32), match_mask_color)\n",
    "    if negative: mask = cv.bitwise_not(mask)\n",
    "    \n",
    "    # Returning the image only where mask pixels match\n",
    "    masked_image = cv.bitwise_and(img, mask)\n",
    "    \n",
    "    return masked_image"
   ]
  },
  {
   "attachments": {},
   "cell_type": "markdown",
   "metadata": {},
   "source": [
    "### generate coordinates rectangle\n",
    "Hier werden die Koordinaten für die segmentation erstellt. Die eigentlichen Werte kommen aus der Konfigurationsdatei, hier werden sie in das richtige Format gebracht."
   ]
  },
  {
   "cell_type": "code",
   "execution_count": null,
   "metadata": {},
   "outputs": [],
   "source": [
    "def _generateCoordinatesRectangle(self, img, roi):\n",
    "    # Generate the region of interest\n",
    "    dim = img.shape\n",
    "    height = dim[0]\n",
    "    width = dim[1]\n",
    "    roi = [\n",
    "        (roi[0][0], height + roi[0][1]),\n",
    "        ((width / 2) + roi[1][0], (height / 2) + roi[1][1]),\n",
    "        ((width / 2) + roi[2][0], (height / 2) + roi[2][1]),\n",
    "        (width + roi[3][0], height + roi[3][1]),\n",
    "    ]\n",
    "\n",
    "    return roi"
   ]
  },
  {
   "attachments": {},
   "cell_type": "markdown",
   "metadata": {},
   "source": [
    "### map color\n",
    "Hier wird das Gelb der Fahrspur auf einen vollen weiß-wert übertragen. Dadurch kann in späteren Verarbeitungsschritten (Threshold) die Fahrspurerkennung deutlich verbessert werden.\n",
    "Die Grenzwerte für den Gelb-ton sind Video-spezifisch und darum in der Konfigurationsdatei ausgelagert."
   ]
  },
  {
   "cell_type": "code",
   "execution_count": null,
   "metadata": {},
   "outputs": [],
   "source": [
    "def map_color(self, img, lower, upper):\n",
    "    hsv = cv.cvtColor(img, cv.COLOR_BGR2HSV)\n",
    "\n",
    "    # Threshold of the color in HSV space\n",
    "    lower = np.array(lower)\n",
    "    upper = np.array(upper)\n",
    "\n",
    "    # preparing the mask to overlay\n",
    "    mask = cv.inRange(hsv, lower, upper)\n",
    "\n",
    "    # The black region in the mask has the value of 0,\n",
    "    # so when multiplied with original image removes all non-blue regions\n",
    "    result = cv.bitwise_and(img, img, mask = mask)\n",
    "    result = self.threshold(result, (1, 255))\n",
    "    result = cv.bitwise_or(img, result)\n",
    "    return result"
   ]
  }
 ],
 "metadata": {
  "kernelspec": {
   "display_name": "Python 3.9.13 ('Bildverarbeitung')",
   "language": "python",
   "name": "python3"
  },
  "language_info": {
   "name": "python",
   "version": "3.9.13"
  },
  "orig_nbformat": 4,
  "vscode": {
   "interpreter": {
    "hash": "73e9040337f818fd60409dcdacdc763e91952f89d50108fc628d40f1d2b9a0fd"
   }
  }
 },
 "nbformat": 4,
 "nbformat_minor": 2
}
