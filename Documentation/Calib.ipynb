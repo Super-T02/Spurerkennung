{
 "cells": [
  {
   "cell_type": "markdown",
   "metadata": {},
   "source": [
    "# Erklärung Kalibrierung (Calib)\n",
    "\n",
    "Dieser Abschnitt erklärt die meisten Methoden der Klasse Calib. Weggelassen wurden Methoden, welche nur für die\n",
    "Entwicklung benötigt wurden und im Produktivcode nicht aufgerufen werden (Debugging Methoden).\n",
    "\n",
    "### Disclaimer\n",
    "Der Code ist nicht lauffähig, dafür existieren die Python Skripte. Das Notebook stellt lediglich eine Dokumentation dar.\n",
    "\n",
    "### Verbesserungen, welche an Calib vorgenommen wurden\n",
    "- Keine spezifischen\n",
    "\n",
    "### Import aller spezifischen Bibliotheken und Module\n",
    "Zu beachten ist die Bibliothek pickle, welche zum export und import der Kalibrierung benutzt wird."
   ]
  },
  {
   "cell_type": "code",
   "execution_count": null,
   "metadata": {},
   "outputs": [],
   "source": [
    "import cv2 as cv\n",
    "import numpy as np\n",
    "from matplotlib import pyplot as plt\n",
    "\n",
    "import pickle\n",
    "import glob\n",
    "import os"
   ]
  },
  {
   "cell_type": "markdown",
   "metadata": {},
   "source": [
    "### Klassendeklaration und init Methode\n",
    "Hier werden die Konstanten zur Bestimmung der Kalibrierungsmatrix festgelegt. Dazu gehören die Gittergröße des\n",
    "Schachbrets, das Suchkriterium, den Speicherpfad und der Ordner zu den Kalibrierungsbilder. Die Init definiert dann die\n",
    "restlichen Variablen. Es besteht dabei die Möglichkeit einen Pfad für eine existierende Kalibrierungsdatei festzulegen.\n",
    "Ist dieser Pfad beim Erzeugen des Objekts definiert, werden die Daten von dieser Datei geladen. Wenn nicht bzw. wenn der\n",
    "Pfad nicht existiert, dann wird die Kamerakalibrierung mit den Kalibrierungsbildern durchgeführt."
   ]
  },
  {
   "cell_type": "code",
   "execution_count": null,
   "metadata": {},
   "outputs": [],
   "source": [
    "class Calibration():\n",
    "    # Chessboard Configuration\n",
    "    GRID_SIZE = (9, 6)\n",
    "    CRITERIA = (cv.TERM_CRITERIA_EPS + cv.TERM_CRITERIA_MAX_ITER, 30, 0.001)\n",
    "    SAVE_PATH = 'calibration.calib'\n",
    "    CALIB_PATH = 'img/Udacity/calib'\n",
    "\n",
    "    def __init__(self, debug: bool, file_path: str = None) -> None:\n",
    "        self.debug = debug\n",
    "        self.calibrated = False\n",
    "\n",
    "        # Initialize the calibration matrix and distortion coefficients\n",
    "        self.mtx, self.dist, self.roi, self.newcameramtx = None, None, None, None\n",
    "        self.rvecs, self.tvecs = None, None\n",
    "\n",
    "        # Arrays to store object points and image points from all the images.\n",
    "        self.objPoints = [] # 3d point in real world space\n",
    "        self.imgPoints = [] # 2d points in image plane.\n",
    "\n",
    "        # Load calibration if file provided or the calibration already exists\n",
    "        if file_path and os.path.exists(file_path): self.loadCalibration(file_path)\n",
    "        elif os.path.exists(self.SAVE_PATH): self.loadCalibration(self.SAVE_PATH)"
   ]
  },
  {
   "cell_type": "markdown",
   "metadata": {},
   "source": [
    "## load calibration\n",
    "Diese Methode lädt unter Angabe des Dateipfads, die Kalibrierungsdaten aus der pickle Datei. Danach wird das Flag, dass\n",
    "die Kalibrierung durchgeführt wurde gesetzt."
   ]
  },
  {
   "cell_type": "code",
   "execution_count": null,
   "metadata": {},
   "outputs": [],
   "source": [
    "def loadCalibration(self, file_path):\n",
    "        with open(file_path, 'rb') as f:\n",
    "            self.mtx, self.dist, self.roi, self.newcameramtx = pickle.load(f)\n",
    "        self.calibrated = True"
   ]
  },
  {
   "cell_type": "markdown",
   "metadata": {},
   "source": [
    "## save calibration\n",
    "Diese Methode speichert die Kalibrierungsdaten in einer pickle Datei unter dem gegebenen Pfad."
   ]
  },
  {
   "cell_type": "code",
   "execution_count": null,
   "metadata": {},
   "outputs": [],
   "source": [
    "def saveCalibration(self, file_path):\n",
    "        with open(file_path, 'wb') as f:\n",
    "            pickle.dump((self.mtx, self.dist, self.roi, self.newcameramtx), f)"
   ]
  },
  {
   "cell_type": "markdown",
   "metadata": {},
   "source": [
    "## equalize\n",
    "Hier wird das gegebene Bild mit der Kalibrierungsmatrix angepasst. Danach ist das Bild so gestreckt, dass es der\n",
    "Realität entspricht. Dieser Vorgang muss später für jedes Bild durchgeführt werden. Ist die Kamera aber noch nicht\n",
    "kalibriert, dann wird sie Kalibriert (überprüfung erfolgt über das Flag, self.calibrated)."
   ]
  },
  {
   "cell_type": "code",
   "execution_count": null,
   "metadata": {},
   "outputs": [],
   "source": [
    "def equalize(self, img):\n",
    "        if not self.calibrated: self._calibrate(img)\n",
    "\n",
    "        # undistort the image\n",
    "        undisortedImage = cv.undistort(img, self.mtx, self.dist, None, self.newcameramtx)\n",
    "\n",
    "        # crop the image\n",
    "        x, y, w, h = self.roi\n",
    "        undisortedImage = undisortedImage[y:y+h, x:x+w]\n",
    "        return undisortedImage"
   ]
  },
  {
   "cell_type": "markdown",
   "metadata": {},
   "source": [
    "## chessboard\n",
    "Diese Methode versucht im Schachbrett die Eckpunkte zu finden. Dafür werden die im definierten Ordner alle Bilder\n",
    "durchlaufen. Um Punkte zu finden muss im Vorfeld die Schachbrettgröße definiert werden. Mit Hilfe der gefundenen Punkten können später die\n",
    "Kalibrierungsdaten erzeugt werden. Will man diesen Vorgang debuggen, so wird jedes Bild, in dem Punkte gefunden wurden\n",
    "mit den Punkten dargestellt. TODO: Bild einfügen"
   ]
  },
  {
   "cell_type": "code",
   "execution_count": null,
   "metadata": {},
   "outputs": [],
   "source": [
    "def _chessboard(self):\n",
    "        # prepare object points, like (0,0,0), (1,0,0), (2,0,0) ....,(6,5,0)\n",
    "        objp = np.zeros((self.GRID_SIZE[0] * self.GRID_SIZE[1],3), np.float32)\n",
    "        objp[:,:2] = np.mgrid[0:self.GRID_SIZE[0],0:self.GRID_SIZE[1]].T.reshape(-1,2)\n",
    "\n",
    "        # read the chessboard imag\n",
    "        images = glob.glob(self.CALIB_PATH + '/*.jpg')\n",
    "\n",
    "        for file_name in images:\n",
    "            board = cv.cvtColor(cv.imread(file_name), cv.COLOR_BGR2RGB)\n",
    "            gray_board = cv.cvtColor(board, cv.COLOR_RGB2GRAY)\n",
    "\n",
    "            # Find the chess board corners\n",
    "            ret, corners = cv.findChessboardCorners(gray_board, self.GRID_SIZE, None)\n",
    "\n",
    "            # If found, add object points, image points (after refining them)\n",
    "            if ret == True:\n",
    "                self.objPoints.append(objp)\n",
    "                corners2 = cv.cornerSubPix(gray_board,corners, (11,11), (-1,-1), self.CRITERIA)\n",
    "                self.imgPoints.append(corners)\n",
    "\n",
    "                # Draw and display the corners\n",
    "                if self.debug: \n",
    "                    cv.drawChessboardCorners(board, self.GRID_SIZE, corners2, ret)\n",
    "                    print(\"Grid matched: \" + file_name)\n",
    "                    cv.imshow('img', board)\n",
    "                    if cv.waitKey(100) & 0xFF == ord('q'):\n",
    "                        break\n",
    "\n",
    "        if self.debug: cv.destroyAllWindows()"
   ]
  },
  {
   "cell_type": "markdown",
   "metadata": {},
   "source": [
    "## calibrate\n",
    "Diese Methode ist für den Aufruf aller Kalibrierungsfunktionen verantwortlich. Zuerst werden die Punkte auf dem\n",
    "Schachbrett gefunden, danach die Kalibrierungsmatrix generiert und gespeichert."
   ]
  },
  {
   "cell_type": "code",
   "execution_count": null,
   "metadata": {},
   "outputs": [],
   "source": [
    "def _calibrate(self, img):\n",
    "        self._chessboard()\n",
    "        self._generateMatrix(img)\n",
    "        self.saveCalibration(self.SAVE_PATH) "
   ]
  },
  {
   "cell_type": "markdown",
   "metadata": {},
   "source": [
    "## generate matrix\n",
    "Diese Methode generiert auf basis der gefundenen Fixpunkte im Schachbrett die Kalibrierungsmatrix. Wenn die Matrix\n",
    "erzeugt ist, dann wird das Flag gesetzt, dass die Kamera kalibriert wurde."
   ]
  },
  {
   "cell_type": "code",
   "execution_count": null,
   "metadata": {},
   "outputs": [],
   "source": [
    "def _generateMatrix(self, img):\n",
    "        # Generate the calibration matrix\n",
    "        img_cvt = cv.cvtColor(img, cv.COLOR_RGB2GRAY)\n",
    "        ret, self.mtx, self.dist, self.rvecs, self.tvecs = cv.calibrateCamera(self.objPoints, self.imgPoints, img_cvt.shape[::-1], None, None)\n",
    "        \n",
    "        img = cv.imread('img/Udacity/calib/calibration3.jpg')\n",
    "        h,  w = img.shape[:2]\n",
    "        self.newcameramtx, self.roi = cv.getOptimalNewCameraMatrix(self.mtx, self.dist, (w,h), 1, (w,h))\n",
    "        self.calibrated = True"
   ]
  }
 ],
 "metadata": {
  "kernelspec": {
   "display_name": "Python 3.9.13 ('Bildverarbeitung')",
   "language": "python",
   "name": "python3"
  },
  "language_info": {
   "name": "python",
   "version": "3.9.13"
  },
  "orig_nbformat": 4,
  "vscode": {
   "interpreter": {
    "hash": "990e8b31f21236b926887c0d9ea7bbf8ff69d03204c2bce06c979663d5934e60"
   }
  }
 },
 "nbformat": 4,
 "nbformat_minor": 2
}
