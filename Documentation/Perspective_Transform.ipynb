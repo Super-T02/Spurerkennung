{
 "cells": [
  {
   "cell_type": "markdown",
   "metadata": {},
   "source": [
    "# Erklärung Transformation\n",
    "\n",
    "Dieser Abschnitt erklärt die meisten Methoden des Objektes Transformation. Weggelassen wurden Methoden, welche nur für die Entwicklung benötigt wurden und im Produktivcode nicht aufgerufen werden (Debugging Methoden).\n",
    "### Disclaimer\n",
    "Der Code ist nicht lauffähig, dafür existieren die Python Skripte. Das Notebook stellt lediglich eine Dokumentation dar."
   ]
  },
  {
   "cell_type": "markdown",
   "metadata": {},
   "source": [
    "### Verbesserungen, welche an SlidingWindows vorgenommen wurden\n",
    "- Die Position des Rechteckes für die Transformation wurde selbst optimiert"
   ]
  },
  {
   "cell_type": "markdown",
   "metadata": {},
   "source": [
    "### Import und Klassendeklaration\n",
    "\n",
    "Hier finden die spezifischen Imports statt. Wichtig sind hier die Calibration als plt."
   ]
  },
  {
   "cell_type": "code",
   "execution_count": null,
   "metadata": {},
   "outputs": [],
   "source": [
    "import time\n",
    "import cv2 as cv\n",
    "from matplotlib import pyplot as plt\n",
    "import numpy as np\n",
    "\n",
    "from calib import Calibration as cal\n",
    "\n",
    "class Transformation():\n",
    "\n",
    "    def __init__(self, debug = False) -> None:\n",
    "        self.debug = debug"
   ]
  },
  {
   "cell_type": "markdown",
   "metadata": {},
   "source": [
    "### calculate matrix\n",
    "In dieser Methode wird die Transformationsmatrix und ihre Inverse berechnet. Diese wird benötigt, um das Bild in Vogelperspektive zu transformieren, oder ein verarbeitetes Bild mit der Inversen wieder in die 'normale' Perspektive zurück zu transformieren. Wichtig ist die Abgrenzung zur Bild-Entzerrung, diese wird in Calib vorgenommen. "
   ]
  },
  {
   "cell_type": "code",
   "execution_count": null,
   "metadata": {},
   "outputs": [],
   "source": [
    "def _calculate_matrix(self, img, trans_matrix):\n",
    "    src_coor = trans_matrix['SRC']\n",
    "    dst_coor = trans_matrix['DST']\n",
    "    src = np.float32([src_coor[0], src_coor[1], src_coor[2], src_coor[3]]) \n",
    "    dst = np.float32([dst_coor[0], dst_coor[1], dst_coor[2], dst_coor[3]])\n",
    "\n",
    "    M = cv.getPerspectiveTransform(src,dst)\n",
    "    M_reversed = cv.getPerspectiveTransform(dst,src)\n",
    "    return M, M_reversed"
   ]
  },
  {
   "cell_type": "markdown",
   "metadata": {},
   "source": [
    "### transform image perspective\n",
    "Diese Methode transformiert ein eingehendes Bild mit der Matrix aus calculate_matrix() in die Vogelperspektive. Um die Rücktransformation möglich zu machen, wird die Inverse der Matrix beim Aufruf ebenfalls zurückgegeben. Die gewählten Punkte für den Transformationsbereich wurden selbst herausgesucht (Mit Orientierung an den Positionen welche in der Projektbeschreibung vorgegeben waren). Die Koordinaten für die Matrixerstellung sind in der Konfigurationsdatei gespeichert, um ein simples Anpassen zu ermöglichen. Hier 3 Beispiele, wo die Punkte auf der Spur positioniert wurden:\n",
    "\n",
    "<img src=\"Images/perspective_transformation_example_1.png\">\n",
    "<img src=\"Images/perspective_transformation_example_2.png\">\n",
    "<img src=\"Images/perspective_transformation_example_3.png\">"
   ]
  },
  {
   "cell_type": "code",
   "execution_count": null,
   "metadata": {},
   "outputs": [],
   "source": [
    "def transform_image_perspective(self, img, trans_matrix):\n",
    "    M, M_reversed = self._calculate_matrix(img, trans_matrix)\n",
    "\n",
    "    img_transformed = cv.warpPerspective(img,M,(img.shape[1], img.shape[0]),flags=cv.INTER_LINEAR) # Alternative flag: INTER_NEAREST\n",
    "\n",
    "    return img_transformed, M_reversed"
   ]
  }
 ],
 "metadata": {
  "kernelspec": {
   "display_name": "Python 3.9.13 ('Bildverarbeitung')",
   "language": "python",
   "name": "python3"
  },
  "language_info": {
   "name": "python",
   "version": "3.9.13"
  },
  "orig_nbformat": 4,
  "vscode": {
   "interpreter": {
    "hash": "73e9040337f818fd60409dcdacdc763e91952f89d50108fc628d40f1d2b9a0fd"
   }
  }
 },
 "nbformat": 4,
 "nbformat_minor": 2
}
